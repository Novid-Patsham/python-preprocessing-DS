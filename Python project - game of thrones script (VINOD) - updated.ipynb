{
 "cells": [
  {
   "cell_type": "code",
   "execution_count": 2,
   "id": "16e1f87b",
   "metadata": {},
   "outputs": [],
   "source": [
    "def read_from_file(L_O_L):\n",
    "    \n",
    "    # Read from file conv.txt and do mild preprocessing to get char-dialogue list\n",
    "    \n",
    "    text_file = open(\"conv.txt\", \"r\", encoding='utf-8')\n",
    "    \n",
    "    lines = text_file.readlines()\n",
    "    \n",
    "    for line in range(0,len(lines),2) :\n",
    "    \n",
    "        L_O_L.append(lines[line][:-1])\n",
    "        \n",
    "    text_file.close()\n",
    "    \n",
    "    return L_O_L"
   ]
  },
  {
   "cell_type": "code",
   "execution_count": 1,
   "id": "dc7d2515",
   "metadata": {},
   "outputs": [],
   "source": [
    "def write_to_file(D_O_C):\n",
    "    \n",
    "    # Write each character's unique words from entire dialogue set to file named as the character name \n",
    "    \n",
    "    for nam,val in D_O_C.items():\n",
    "        \n",
    "        write_to_file = open('character files/'+nam+'.txt','w')\n",
    "        write_to_file.write('\\t\\t\\t'+nam+'\\n\\n')\n",
    "\n",
    "        for lines in val:\n",
    "            write_to_file.writelines('   '+lines+'\\n')\n",
    "            \n",
    "        write_to_file.close()"
   ]
  },
  {
   "cell_type": "code",
   "execution_count": 3,
   "id": "464944eb",
   "metadata": {},
   "outputs": [],
   "source": [
    "import re\n",
    "import contractions\n",
    "def remove_punc(dialogue):\n",
    "    \n",
    "    # To remove punctuation and expand contractions\n",
    "    \n",
    "    dialogue = contractions.fix(dialogue)\n",
    "    dialogue = dialogue.replace(\"’s\",'')\n",
    "    no_punc_diag = re.sub(r'[^\\w\\s]', ' ', dialogue)\n",
    "    \n",
    "    return no_punc_diag"
   ]
  },
  {
   "cell_type": "code",
   "execution_count": 4,
   "id": "fe24b0cf",
   "metadata": {},
   "outputs": [],
   "source": [
    "def count_unique(value_):\n",
    "    \n",
    "    # Count unique words line by line in the conv text wrt the character \n",
    "    \n",
    "    lower_diag = value_.lower()\n",
    "    temp_list = []\n",
    "    for text in value_.split():\n",
    "        \n",
    "        if lower_diag.count(\" \"+text.lower()+\" \") > 1:\n",
    "            continue\n",
    "        \n",
    "        temp_list.append(text)   \n",
    "        \n",
    "    return temp_list"
   ]
  },
  {
   "cell_type": "code",
   "execution_count": 5,
   "id": "1c08ea71",
   "metadata": {},
   "outputs": [],
   "source": [
    "def num_of_unique_char(doc):\n",
    "    \n",
    "    # The number of unique characters \n",
    "    \n",
    "    for char in doc.keys():\n",
    "        print(char)\n",
    "        \n",
    "    print(\"\\n The number of unique characters: \",len(doc))"
   ]
  },
  {
   "cell_type": "code",
   "execution_count": 6,
   "id": "02274740",
   "metadata": {},
   "outputs": [],
   "source": [
    "def num_of_words_each_char(d_o_c):\n",
    "    \n",
    "    # To display the count of unique words said by each character in their entire respective dialogue set\n",
    "    \n",
    "    for i in d_o_c.keys():\n",
    "        \n",
    "        print(i,\" -> \", len(d_o_c[i]))"
   ]
  },
  {
   "cell_type": "code",
   "execution_count": 7,
   "id": "80e49f30",
   "metadata": {},
   "outputs": [],
   "source": [
    "def char_dictinary(l_o_l, D_O_C):\n",
    "    \n",
    "    # To add every character and their dialogue set in dictionary\n",
    "\n",
    "    for name in l_o_l:\n",
    "\n",
    "        char_name = name[0:name.index(':')]\n",
    "        \n",
    "        char_diag = name[name.index(':')+1:]\n",
    "        \n",
    "        if char_name not in D_O_C.keys():\n",
    "            D_O_C[char_name] = []\n",
    "            \n",
    "        D_O_C[char_name].append(remove_punc(char_diag))"
   ]
  },
  {
   "cell_type": "code",
   "execution_count": 8,
   "id": "9adca134",
   "metadata": {},
   "outputs": [],
   "source": [
    "list_of_lines = []\n",
    "\n",
    "list_of_lines = read_from_file(list_of_lines)"
   ]
  },
  {
   "cell_type": "code",
   "execution_count": 9,
   "id": "1f79c02b",
   "metadata": {},
   "outputs": [],
   "source": [
    "dict_of_char = {}\n",
    "\n",
    "char_dictinary(list_of_lines,dict_of_char)"
   ]
  },
  {
   "cell_type": "code",
   "execution_count": 10,
   "id": "52214fcf",
   "metadata": {},
   "outputs": [],
   "source": [
    "for name_,val_ in dict_of_char.items():\n",
    "    \n",
    "    diag = \"\".join(val_)\n",
    "    \n",
    "    dict_of_char[name_] = count_unique(diag)\n",
    "    "
   ]
  },
  {
   "cell_type": "code",
   "execution_count": 11,
   "id": "e8dada90",
   "metadata": {},
   "outputs": [
    {
     "name": "stdout",
     "output_type": "stream",
     "text": [
      "WILL\n",
      "WAYMAR ROYCE\n",
      "GARED\n",
      "ROYCE\n",
      "JON\n",
      "SEPTA MORDANE\n",
      "SANSA\n",
      "NED\n",
      "ROBB\n",
      "CASSEL\n",
      "CATELYN\n",
      "BRAN\n",
      "THEON\n",
      "CERSEI\n",
      "JAIME\n",
      "ROBERT\n",
      "ARYA\n",
      "\n",
      " The number of unique characters:  17\n"
     ]
    }
   ],
   "source": [
    "num_of_unique_char(dict_of_char)"
   ]
  },
  {
   "cell_type": "code",
   "execution_count": 12,
   "id": "2f73bfce",
   "metadata": {},
   "outputs": [
    {
     "name": "stdout",
     "output_type": "stream",
     "text": [
      "The count of unique words by each character\n",
      "\n",
      "WILL  ->  22\n",
      "WAYMAR ROYCE  ->  5\n",
      "GARED  ->  20\n",
      "ROYCE  ->  31\n",
      "JON  ->  35\n",
      "SEPTA MORDANE  ->  19\n",
      "SANSA  ->  4\n",
      "NED  ->  94\n",
      "ROBB  ->  41\n",
      "CASSEL  ->  18\n",
      "CATELYN  ->  45\n",
      "BRAN  ->  36\n",
      "THEON  ->  29\n",
      "CERSEI  ->  33\n",
      "JAIME  ->  55\n",
      "ROBERT  ->  60\n",
      "ARYA  ->  7\n"
     ]
    }
   ],
   "source": [
    "print(\"The count of unique words by each character\\n\")\n",
    "num_of_words_each_char(dict_of_char)"
   ]
  },
  {
   "cell_type": "code",
   "execution_count": null,
   "id": "3c21c936",
   "metadata": {},
   "outputs": [],
   "source": [
    "# Sample dictionary entry \n",
    "\n",
    "name = input(\"Enter the character name: \").upper()\n",
    "\n",
    "if name not in dict_of_char:\n",
    "    print(\"Not found! \")\n",
    "else:\n",
    "    print(\"\\n\",dict_of_char[name],\"\\n\\n no. of words = \",len(dict_of_char[name]))"
   ]
  },
  {
   "cell_type": "code",
   "execution_count": 14,
   "id": "548c33ff",
   "metadata": {},
   "outputs": [],
   "source": [
    "write_to_file(dict_of_char)"
   ]
  },
  {
   "cell_type": "code",
   "execution_count": null,
   "id": "e73a34c0",
   "metadata": {},
   "outputs": [],
   "source": []
  }
 ],
 "metadata": {
  "kernelspec": {
   "display_name": "Python 3 (ipykernel)",
   "language": "python",
   "name": "python3"
  },
  "language_info": {
   "codemirror_mode": {
    "name": "ipython",
    "version": 3
   },
   "file_extension": ".py",
   "mimetype": "text/x-python",
   "name": "python",
   "nbconvert_exporter": "python",
   "pygments_lexer": "ipython3",
   "version": "3.7.13"
  }
 },
 "nbformat": 4,
 "nbformat_minor": 5
}
